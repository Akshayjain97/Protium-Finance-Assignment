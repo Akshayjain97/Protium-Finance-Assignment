{
 "cells": [
  {
   "cell_type": "markdown",
   "id": "d16e7533",
   "metadata": {},
   "source": [
    "# customer14235_loan14235_crif_report"
   ]
  },
  {
   "cell_type": "code",
   "execution_count": 90,
   "id": "c9e127d8",
   "metadata": {},
   "outputs": [],
   "source": [
    "import xml.etree.ElementTree as ET"
   ]
  },
  {
   "cell_type": "code",
   "execution_count": 91,
   "id": "f3b2d9ac",
   "metadata": {},
   "outputs": [
    {
     "name": "stdout",
     "output_type": "stream",
     "text": [
      "total no of Trades: 37\n",
      "Count of 30+DPD Trades: 7\n",
      "Percentage of 30+DPD Trades: 18.91891891891892\n"
     ]
    }
   ],
   "source": [
    "\n",
    "\n",
    "# Question 1: What percentage of trades are with 30+ DPD (more than 30 days past due) among all the trades available?\n",
    "\n",
    "# Solution: \n",
    "# Assumption : considering each LOAN-DETAILS/COMBINED-PAYMENT-HISTORY as 1 trade for the calculation of Percentage 30+DPD\n",
    "\n",
    "\n",
    "new_tree = ET.parse('/home/leno/Documents/Coding_data/customer14235_loan14235_crif_report.html.xml')\n",
    "new_root = new_tree.getroot()\n",
    "tot = 0\n",
    "count = 0\n",
    "for i in new_root.findall(\".//LOAN-DETAILS\"):\n",
    "    cph = i.find('COMBINED-PAYMENT-HISTORY')\n",
    "    if cph == None:continue\n",
    "    cph = cph.text\n",
    "    if cph == None:continue\n",
    "    flag = 0\n",
    "    tot = tot + 1\n",
    "    individual = cph.split('|')\n",
    "    individual = individual[:-1]\n",
    "    for j in individual:\n",
    "        further = j.split(',')[1]\n",
    "        final = further.split('/')[0]\n",
    "        if final ==\"XXX\" or final == \"DDD\":continue\n",
    "        elif int(final) > 30: \n",
    "            flag=1\n",
    "            break\n",
    "    \n",
    "    \n",
    "    count = count + flag\n",
    "\n",
    "perc = count / tot\n",
    "print(\"total no of Trades:\", tot)\n",
    "print(\"Count of 30+DPD Trades:\", count)\n",
    "print(\"Percentage of 30+DPD Trades:\",perc*100)\n"
   ]
  },
  {
   "cell_type": "code",
   "execution_count": 92,
   "id": "ed3c4544",
   "metadata": {},
   "outputs": [
    {
     "name": "stdout",
     "output_type": "stream",
     "text": [
      "Personal Loan  :  5770599\n",
      "Credit Card  :  1213114\n",
      "Consumer Loan  :  188404\n",
      "Auto Loan (Personal)  :  985000\n",
      "Gold Loan  :  375000\n",
      "Total loan:  8532117\n"
     ]
    }
   ],
   "source": [
    "# Question 2:  What is the sum of total disbursed amount for all loans for each customer?\n",
    "\n",
    "# Solution:\n",
    "\n",
    "new_tree = ET.parse('/home/leno/Documents/Coding_data/customer14235_loan14235_crif_report.html.xml')\n",
    "new_root = new_tree.getroot()\n",
    "dict = {}\n",
    "sum = 0\n",
    "for i in new_root.findall(\".//LOAN-DETAILS\"):\n",
    "    ltype = i.find('ACCT-TYPE')\n",
    "    amt = i.find('DISBURSED-AMT')\n",
    "    if amt == None or ltype == None:continue\n",
    "    ltype = ltype.text\n",
    "    if ltype == None or amt.text ==None: continue\n",
    "    if ltype in dict.keys():\n",
    "        amt = amt.text\n",
    "        a = amt.replace(\",\",\"\")\n",
    "        dict[ltype] = dict[ltype] + int(a)\n",
    "    else: \n",
    "        amt = amt.text\n",
    "        a = amt.replace(\",\",\"\")\n",
    "        dict[ltype] = int(a)\n",
    "        \n",
    "total = 0\n",
    "for i in dict.keys():\n",
    "    print(i ,\" : \",dict[i])\n",
    "    total = total + dict[i]\n",
    "    \n",
    "print(\"Total loan: \", total)"
   ]
  },
  {
   "cell_type": "code",
   "execution_count": 93,
   "id": "91cb7412",
   "metadata": {},
   "outputs": [
    {
     "name": "stdout",
     "output_type": "stream",
     "text": [
      "{'Personal Loan': 7, 'Credit Card': 10, 'Consumer Loan': 0, 'Auto Loan (Personal)': 0, 'Gold Loan': 0} \n",
      "\n",
      "Credit Card having Maximum 30+DPD, which is: 10\n"
     ]
    }
   ],
   "source": [
    "# Question 3. What is the maximum number of months of 30+ due per trade was there? e.g. for trade 1 there are 3 occurrences of 30+, for trade 2 there are 6 occurrences and\n",
    "# for trade 3 there are 3 occurrences then the answer will be 6.\n",
    "\n",
    "# solution \n",
    "\n",
    "\n",
    "new_tree = ET.parse('/home/leno/Documents/Coding_data/customer14235_loan14235_crif_report.html.xml')\n",
    "new_root = new_tree.getroot()\n",
    "dict = {}\n",
    "\n",
    "for i in new_root.findall(\".//LOAN-DETAILS\"):\n",
    "    count = 0\n",
    "    ltype = i.find('ACCT-TYPE')\n",
    "    cph = i.find('COMBINED-PAYMENT-HISTORY')\n",
    "    if ltype == None or cph == None: continue\n",
    "    cph = cph.text\n",
    "    if cph == None:continue\n",
    "    ltype = ltype.text\n",
    "    individual = cph.split('|')\n",
    "    individual = individual[:-1]\n",
    "    for j in individual:\n",
    "        further = j.split(',')[1]\n",
    "        final = further.split('/')[0]\n",
    "        if final ==\"XXX\" or final == \"DDD\":continue\n",
    "        elif int(final) > 30: \n",
    "            count = count + 1\n",
    "            \n",
    "    if ltype in dict.keys():\n",
    "        dict[ltype] = dict[ltype] + count\n",
    "    else: \n",
    "        dict[ltype] = count\n",
    "    \n",
    "    \n",
    "print(dict ,\"\\n\")\n",
    "    \n",
    "maxim = 0\n",
    "mtype = \"\"\n",
    "for i in dict.keys():\n",
    "    if dict[i] > maxim:\n",
    "        maxim = dict[i]\n",
    "        mtype = i\n",
    "        \n",
    "print(\"%s having Maximum 30+DPD, which is: %d\" %(mtype,maxim))"
   ]
  },
  {
   "cell_type": "markdown",
   "id": "c995bdc5",
   "metadata": {},
   "source": [
    "# customer16475_loan16475_crif_report"
   ]
  },
  {
   "cell_type": "code",
   "execution_count": 94,
   "id": "d23192d5",
   "metadata": {},
   "outputs": [
    {
     "name": "stdout",
     "output_type": "stream",
     "text": [
      "total no of Trades: 39\n",
      "Count of 30+DPD Trades: 6\n",
      "Percentage of 30+DPD Trades: 15.384615384615385\n"
     ]
    }
   ],
   "source": [
    "\n",
    "\n",
    "# Question 1: What percentage of trades are with 30+ DPD (more than 30 days past due) among all the trades available?\n",
    "\n",
    "# Solution: \n",
    "# Assumption : considering each LOAN-DETAILS/COMBINED-PAYMENT-HISTORY as 1 trade for the calculation of Percentage 30+DPD\n",
    "\n",
    "\n",
    "new_tree = ET.parse('/home/leno/Documents/Coding_data/customer16475_loan16475_crif_report.html.xml')\n",
    "new_root = new_tree.getroot()\n",
    "tot = 0\n",
    "count = 0\n",
    "for i in new_root.findall(\".//LOAN-DETAILS\"):\n",
    "    cph = i.find('COMBINED-PAYMENT-HISTORY')\n",
    "    if cph == None:continue\n",
    "    cph = cph.text\n",
    "    if cph == None:continue\n",
    "    flag = 0\n",
    "    tot = tot + 1\n",
    "    individual = cph.split('|')\n",
    "    individual = individual[:-1]\n",
    "    for j in individual:\n",
    "        further = j.split(',')[1]\n",
    "        final = further.split('/')[0]\n",
    "        if final ==\"XXX\" or final == \"DDD\":continue\n",
    "        elif int(final) > 30: \n",
    "            flag=1\n",
    "            break\n",
    "    \n",
    "    \n",
    "    count = count + flag\n",
    "\n",
    "perc = count / tot\n",
    "print(\"total no of Trades:\", tot)\n",
    "print(\"Count of 30+DPD Trades:\", count)\n",
    "print(\"Percentage of 30+DPD Trades:\",perc*100)\n"
   ]
  },
  {
   "cell_type": "code",
   "execution_count": 95,
   "id": "8d9c4519",
   "metadata": {},
   "outputs": [
    {
     "name": "stdout",
     "output_type": "stream",
     "text": [
      "Used Car Loan  :  353850\n",
      "Gold Loan  :  287141\n",
      "Credit Card  :  273062\n",
      "Personal Loan  :  1282661\n",
      "Consumer Loan  :  34992\n",
      "Auto Loan (Personal)  :  636761\n",
      "Total loan:  2868467\n"
     ]
    }
   ],
   "source": [
    "# Question 2:  What is the sum of total disbursed amount for all loans for each customer?\n",
    "\n",
    "# Solution:\n",
    "\n",
    "new_tree = ET.parse('/home/leno/Documents/Coding_data/customer16475_loan16475_crif_report.html.xml')\n",
    "new_root = new_tree.getroot()\n",
    "dict = {}\n",
    "sum = 0\n",
    "for i in new_root.findall(\".//LOAN-DETAILS\"):\n",
    "    ltype = i.find('ACCT-TYPE')\n",
    "    amt = i.find('DISBURSED-AMT')\n",
    "    if amt == None or ltype == None:continue\n",
    "    ltype = ltype.text\n",
    "    if ltype == None or amt.text ==None: continue\n",
    "    if ltype in dict.keys():\n",
    "        amt = amt.text\n",
    "        a = amt.replace(\",\",\"\")\n",
    "        dict[ltype] = dict[ltype] + int(a)\n",
    "    else: \n",
    "        amt = amt.text\n",
    "        a = amt.replace(\",\",\"\")\n",
    "        dict[ltype] = int(a)\n",
    "        \n",
    "total = 0\n",
    "for i in dict.keys():\n",
    "    print(i ,\" : \",dict[i])\n",
    "    total = total + dict[i]\n",
    "    \n",
    "print(\"Total loan: \", total)"
   ]
  },
  {
   "cell_type": "code",
   "execution_count": 96,
   "id": "6e4c06e1",
   "metadata": {},
   "outputs": [
    {
     "name": "stdout",
     "output_type": "stream",
     "text": [
      "{'Used Car Loan': 0, 'Gold Loan': 6, 'Credit Card': 6, 'Personal Loan': 0, 'Consumer Loan': 0, 'Auto Loan (Personal)': 0} \n",
      "\n",
      "Gold Loan having Maximum 30+DPD, which is: 6\n"
     ]
    }
   ],
   "source": [
    "# Question 3. What is the maximum number of months of 30+ due per trade was there? e.g. for trade 1 there are 3 occurrences of 30+, for trade 2 there are 6 occurrences and\n",
    "# for trade 3 there are 3 occurrences then the answer will be 6.\n",
    "\n",
    "# solution \n",
    "\n",
    "\n",
    "new_tree = ET.parse('/home/leno/Documents/Coding_data/customer16475_loan16475_crif_report.html.xml')\n",
    "new_root = new_tree.getroot()\n",
    "dict = {}\n",
    "\n",
    "for i in new_root.findall(\".//LOAN-DETAILS\"):\n",
    "    count = 0\n",
    "    ltype = i.find('ACCT-TYPE')\n",
    "    cph = i.find('COMBINED-PAYMENT-HISTORY')\n",
    "    if ltype == None or cph == None: continue\n",
    "    cph = cph.text\n",
    "    if cph == None:continue\n",
    "    ltype = ltype.text\n",
    "    individual = cph.split('|')\n",
    "    individual = individual[:-1]\n",
    "    for j in individual:\n",
    "        further = j.split(',')[1]\n",
    "        final = further.split('/')[0]\n",
    "        if final ==\"XXX\" or final == \"DDD\":continue\n",
    "        elif int(final) > 30: \n",
    "            count = count + 1\n",
    "            \n",
    "    if ltype in dict.keys():\n",
    "        dict[ltype] = dict[ltype] + count\n",
    "    else: \n",
    "        dict[ltype] = count\n",
    "    \n",
    "    \n",
    "print(dict ,\"\\n\")\n",
    "    \n",
    "maxim = 0\n",
    "mtype = \"\"\n",
    "for i in dict.keys():\n",
    "    if dict[i] > maxim:\n",
    "        maxim = dict[i]\n",
    "        mtype = i\n",
    "        \n",
    "print(\"%s having Maximum 30+DPD, which is: %d\" %(mtype,maxim))"
   ]
  },
  {
   "cell_type": "markdown",
   "id": "bcef0927",
   "metadata": {},
   "source": [
    "# customer40409_loan40409_crif_report"
   ]
  },
  {
   "cell_type": "code",
   "execution_count": 97,
   "id": "248a0f1f",
   "metadata": {},
   "outputs": [
    {
     "name": "stdout",
     "output_type": "stream",
     "text": [
      "total no of Trades: 28\n",
      "Count of 30+DPD Trades: 5\n",
      "Percentage of 30+DPD Trades: 17.857142857142858\n"
     ]
    }
   ],
   "source": [
    "\n",
    "\n",
    "# Question 1: What percentage of trades are with 30+ DPD (more than 30 days past due) among all the trades available?\n",
    "\n",
    "# Solution: \n",
    "# Assumption : considering each LOAN-DETAILS/COMBINED-PAYMENT-HISTORY as 1 trade for the calculation of Percentage 30+DPD\n",
    "\n",
    "\n",
    "new_tree = ET.parse('/home/leno/Documents/Coding_data/customer40409_loan40409_crif_report.html.xml')\n",
    "new_root = new_tree.getroot()\n",
    "tot = 0\n",
    "count = 0\n",
    "for i in new_root.findall(\".//LOAN-DETAILS\"):\n",
    "    cph = i.find('COMBINED-PAYMENT-HISTORY')\n",
    "    if cph == None:continue\n",
    "    cph = cph.text\n",
    "    if cph == None:continue\n",
    "    flag = 0\n",
    "    tot = tot + 1\n",
    "    individual = cph.split('|')\n",
    "    individual = individual[:-1]\n",
    "    for j in individual:\n",
    "        further = j.split(',')[1]\n",
    "        final = further.split('/')[0]\n",
    "        if final ==\"XXX\" or final == \"DDD\":continue\n",
    "        elif int(final) > 30: \n",
    "            flag=1\n",
    "            break\n",
    "    \n",
    "    \n",
    "    count = count + flag\n",
    "\n",
    "perc = count / tot\n",
    "print(\"total no of Trades:\", tot)\n",
    "print(\"Count of 30+DPD Trades:\", count)\n",
    "print(\"Percentage of 30+DPD Trades:\",perc*100)\n"
   ]
  },
  {
   "cell_type": "code",
   "execution_count": 98,
   "id": "7c89b35d",
   "metadata": {},
   "outputs": [
    {
     "name": "stdout",
     "output_type": "stream",
     "text": [
      "Consumer Loan  :  136970\n",
      "Credit Card  :  332115\n",
      "Personal Loan  :  456602\n",
      "Two-Wheeler Loan  :  149621\n",
      "Total loan:  1075308\n"
     ]
    }
   ],
   "source": [
    "# Question 2:  What is the sum of total disbursed amount for all loans for each customer?\n",
    "\n",
    "# Solution:\n",
    "\n",
    "new_tree = ET.parse('/home/leno/Documents/Coding_data/customer40409_loan40409_crif_report.html.xml')\n",
    "new_root = new_tree.getroot()\n",
    "dict = {}\n",
    "sum = 0\n",
    "for i in new_root.findall(\".//LOAN-DETAILS\"):\n",
    "    ltype = i.find('ACCT-TYPE')\n",
    "    amt = i.find('DISBURSED-AMT')\n",
    "    if amt == None or ltype == None:continue\n",
    "    ltype = ltype.text\n",
    "    if ltype == None or amt.text ==None: continue\n",
    "    if ltype in dict.keys():\n",
    "        amt = amt.text\n",
    "        a = amt.replace(\",\",\"\")\n",
    "        dict[ltype] = dict[ltype] + int(a)\n",
    "    else: \n",
    "        amt = amt.text\n",
    "        a = amt.replace(\",\",\"\")\n",
    "        dict[ltype] = int(a)\n",
    "        \n",
    "total = 0\n",
    "for i in dict.keys():\n",
    "    print(i ,\" : \",dict[i])\n",
    "    total = total + dict[i]\n",
    "    \n",
    "print(\"Total loan: \", total)"
   ]
  },
  {
   "cell_type": "code",
   "execution_count": 99,
   "id": "2b7a9785",
   "metadata": {},
   "outputs": [
    {
     "name": "stdout",
     "output_type": "stream",
     "text": [
      "{'Consumer Loan': 0, 'Credit Card': 8, 'Personal Loan': 5, 'Two-Wheeler Loan': 0} \n",
      "\n",
      "Credit Card having Maximum 30+DPD, which is: 8\n"
     ]
    }
   ],
   "source": [
    "# Question 3. What is the maximum number of months of 30+ due per trade was there? e.g. for trade 1 there are 3 occurrences of 30+, for trade 2 there are 6 occurrences and\n",
    "# for trade 3 there are 3 occurrences then the answer will be 6.\n",
    "\n",
    "# solution \n",
    "\n",
    "\n",
    "new_tree = ET.parse('/home/leno/Documents/Coding_data/customer40409_loan40409_crif_report.html.xml')\n",
    "new_root = new_tree.getroot()\n",
    "dict = {}\n",
    "\n",
    "for i in new_root.findall(\".//LOAN-DETAILS\"):\n",
    "    count = 0\n",
    "    ltype = i.find('ACCT-TYPE')\n",
    "    cph = i.find('COMBINED-PAYMENT-HISTORY')\n",
    "    if ltype == None or cph == None: continue\n",
    "    cph = cph.text\n",
    "    if cph == None:continue\n",
    "    ltype = ltype.text\n",
    "    individual = cph.split('|')\n",
    "    individual = individual[:-1]\n",
    "    for j in individual:\n",
    "        further = j.split(',')[1]\n",
    "        final = further.split('/')[0]\n",
    "        if final ==\"XXX\" or final == \"DDD\":continue\n",
    "        elif int(final) > 30: \n",
    "            count = count + 1\n",
    "            \n",
    "    if ltype in dict.keys():\n",
    "        dict[ltype] = dict[ltype] + count\n",
    "    else: \n",
    "        dict[ltype] = count\n",
    "    \n",
    "    \n",
    "print(dict ,\"\\n\")\n",
    "    \n",
    "maxim = 0\n",
    "mtype = \"\"\n",
    "for i in dict.keys():\n",
    "    if dict[i] > maxim:\n",
    "        maxim = dict[i]\n",
    "        mtype = i\n",
    "        \n",
    "print(\"%s having Maximum 30+DPD, which is: %d\" %(mtype,maxim))"
   ]
  },
  {
   "cell_type": "markdown",
   "id": "6856b347",
   "metadata": {},
   "source": [
    "# customer773504_loan774538_crif_report"
   ]
  },
  {
   "cell_type": "code",
   "execution_count": 100,
   "id": "7afb389d",
   "metadata": {},
   "outputs": [
    {
     "name": "stdout",
     "output_type": "stream",
     "text": [
      "total no of Trades: 36\n",
      "Count of 30+DPD Trades: 9\n",
      "Percentage of 30+DPD Trades: 25.0\n"
     ]
    }
   ],
   "source": [
    "\n",
    "\n",
    "# Question 1: What percentage of trades are with 30+ DPD (more than 30 days past due) among all the trades available?\n",
    "\n",
    "# Solution: \n",
    "# Assumption : considering each LOAN-DETAILS/COMBINED-PAYMENT-HISTORY as 1 trade for the calculation of Percentage 30+DPD\n",
    "\n",
    "\n",
    "new_tree = ET.parse('/home/leno/Documents/Coding_data/customer773504_loan774538_crif_report.html.xml')\n",
    "new_root = new_tree.getroot()\n",
    "tot = 0\n",
    "count = 0\n",
    "for i in new_root.findall(\".//LOAN-DETAILS\"):\n",
    "    cph = i.find('COMBINED-PAYMENT-HISTORY')\n",
    "    if cph == None:continue\n",
    "    cph = cph.text\n",
    "    if cph == None:continue\n",
    "    flag = 0\n",
    "    tot = tot + 1\n",
    "    individual = cph.split('|')\n",
    "    individual = individual[:-1]\n",
    "    for j in individual:\n",
    "        further = j.split(',')[1]\n",
    "        final = further.split('/')[0]\n",
    "        if final ==\"XXX\" or final == \"DDD\":continue\n",
    "        elif int(final) > 30: \n",
    "            flag=1\n",
    "            break\n",
    "    \n",
    "    \n",
    "    count = count + flag\n",
    "\n",
    "perc = count / tot\n",
    "print(\"total no of Trades:\", tot)\n",
    "print(\"Count of 30+DPD Trades:\", count)\n",
    "print(\"Percentage of 30+DPD Trades:\",perc*100)\n"
   ]
  },
  {
   "cell_type": "code",
   "execution_count": 101,
   "id": "07084a5e",
   "metadata": {},
   "outputs": [
    {
     "name": "stdout",
     "output_type": "stream",
     "text": [
      "Credit Card  :  2156420\n",
      "Personal Loan  :  548417\n",
      "Consumer Loan  :  113528\n",
      "Gold Loan  :  749000\n",
      "Two-Wheeler Loan  :  66000\n",
      "Other  :  500000\n",
      "Total loan:  4133365\n"
     ]
    }
   ],
   "source": [
    "# Question 2:  What is the sum of total disbursed amount for all loans for each customer?\n",
    "\n",
    "# Solution:\n",
    "\n",
    "new_tree = ET.parse('/home/leno/Documents/Coding_data/customer773504_loan774538_crif_report.html.xml')\n",
    "new_root = new_tree.getroot()\n",
    "dict = {}\n",
    "sum = 0\n",
    "for i in new_root.findall(\".//LOAN-DETAILS\"):\n",
    "    ltype = i.find('ACCT-TYPE')\n",
    "    amt = i.find('DISBURSED-AMT')\n",
    "    if amt == None or ltype == None:continue\n",
    "    ltype = ltype.text\n",
    "    if ltype == None or amt.text ==None: continue\n",
    "    if ltype in dict.keys():\n",
    "        amt = amt.text\n",
    "        a = amt.replace(\",\",\"\")\n",
    "        dict[ltype] = dict[ltype] + int(a)\n",
    "    else: \n",
    "        amt = amt.text\n",
    "        a = amt.replace(\",\",\"\")\n",
    "        dict[ltype] = int(a)\n",
    "        \n",
    "total = 0\n",
    "for i in dict.keys():\n",
    "    print(i ,\" : \",dict[i])\n",
    "    total = total + dict[i]\n",
    "    \n",
    "print(\"Total loan: \", total)"
   ]
  },
  {
   "cell_type": "code",
   "execution_count": 102,
   "id": "311d77db",
   "metadata": {},
   "outputs": [
    {
     "name": "stdout",
     "output_type": "stream",
     "text": [
      "{'Credit Card': 247, 'Personal Loan': 0, 'Consumer Loan': 0, 'Gold Loan': 3, 'Two-Wheeler Loan': 0, 'Other': 0} \n",
      "\n",
      "Credit Card having Maximum 30+DPD, which is: 247\n"
     ]
    }
   ],
   "source": [
    "# Question 3. What is the maximum number of months of 30+ due per trade was there? e.g. for trade 1 there are 3 occurrences of 30+, for trade 2 there are 6 occurrences and\n",
    "# for trade 3 there are 3 occurrences then the answer will be 6.\n",
    "\n",
    "# solution \n",
    "\n",
    "\n",
    "new_tree = ET.parse('/home/leno/Documents/Coding_data/customer773504_loan774538_crif_report.html.xml')\n",
    "new_root = new_tree.getroot()\n",
    "dict = {}\n",
    "for i in new_root.findall(\".//LOAN-DETAILS\"):\n",
    "    count = 0\n",
    "    ltype = i.find('ACCT-TYPE')\n",
    "    cph = i.find('COMBINED-PAYMENT-HISTORY')\n",
    "    if ltype == None or cph == None: continue\n",
    "    cph = cph.text\n",
    "    if cph == None:continue\n",
    "    ltype = ltype.text\n",
    "    individual = cph.split('|')\n",
    "    individual = individual[:-1]\n",
    "    for j in individual:\n",
    "        further = j.split(',')[1]\n",
    "        final = further.split('/')[0]\n",
    "        if final ==\"XXX\" or final == \"DDD\":continue\n",
    "        elif int(final) > 30: \n",
    "            count = count + 1\n",
    "            \n",
    "    if ltype in dict.keys():\n",
    "        dict[ltype] = dict[ltype] + count\n",
    "    else: \n",
    "        dict[ltype] = count\n",
    "    \n",
    "    \n",
    "print(dict ,\"\\n\")\n",
    "    \n",
    "maxim = 0\n",
    "mtype = \"\"\n",
    "for i in dict.keys():\n",
    "    if dict[i] > maxim:\n",
    "        maxim = dict[i]\n",
    "        mtype = i\n",
    "        \n",
    "print(\"%s having Maximum 30+DPD, which is: %d\" %(mtype,maxim))"
   ]
  },
  {
   "cell_type": "markdown",
   "id": "abe6e212",
   "metadata": {},
   "source": [
    "# customer787561_loan788638_crif_report"
   ]
  },
  {
   "cell_type": "code",
   "execution_count": 103,
   "id": "a6e0fd3d",
   "metadata": {},
   "outputs": [
    {
     "name": "stdout",
     "output_type": "stream",
     "text": [
      "total no of Trades: 30\n",
      "Count of 30+DPD Trades: 5\n",
      "Percentage of 30+DPD Trades: 16.666666666666664\n"
     ]
    }
   ],
   "source": [
    "# Question 1: What percentage of trades are with 30+ DPD (more than 30 days past due) among all the trades available?\n",
    "\n",
    "# Solution: \n",
    "# Assumption : considering each LOAN-DETAILS/COMBINED-PAYMENT-HISTORY as 1 trade for the calculation of Percentage 30+DPD\n",
    "\n",
    "\n",
    "new_tree = ET.parse('/home/leno/Documents/Coding_data/customer787561_loan788638_crif_report.html.xml')\n",
    "new_root = new_tree.getroot()\n",
    "tot = 0\n",
    "count = 0\n",
    "for i in new_root.findall(\".//LOAN-DETAILS\"):\n",
    "    cph = i.find('COMBINED-PAYMENT-HISTORY')\n",
    "    if cph == None:continue\n",
    "    cph = cph.text\n",
    "    if cph == None:continue\n",
    "    flag = 0\n",
    "    tot = tot + 1\n",
    "    individual = cph.split('|')\n",
    "    individual = individual[:-1]\n",
    "    for j in individual:\n",
    "        further = j.split(',')[1]\n",
    "        final = further.split('/')[0]\n",
    "        if final ==\"XXX\" or final == \"DDD\":continue\n",
    "        elif int(final) > 30: \n",
    "            flag=1\n",
    "            break\n",
    "    \n",
    "    \n",
    "    count = count + flag\n",
    "\n",
    "perc = count / tot\n",
    "print(\"total no of Trades:\", tot)\n",
    "print(\"Count of 30+DPD Trades:\", count)\n",
    "print(\"Percentage of 30+DPD Trades:\",perc*100)\n"
   ]
  },
  {
   "cell_type": "code",
   "execution_count": 104,
   "id": "c3f5341e",
   "metadata": {},
   "outputs": [
    {
     "name": "stdout",
     "output_type": "stream",
     "text": [
      "Personal Loan  :  50161\n",
      "Gold Loan  :  508678\n",
      "Other  :  3778\n",
      "Consumer Loan  :  129222\n",
      "Total loan:  691839\n"
     ]
    }
   ],
   "source": [
    "# Question 2:  What is the sum of total disbursed amount for all loans for each customer?\n",
    "\n",
    "# Solution:\n",
    "\n",
    "new_tree = ET.parse('/home/leno/Documents/Coding_data/customer787561_loan788638_crif_report.html.xml')\n",
    "new_root = new_tree.getroot()\n",
    "dict = {}\n",
    "sum = 0\n",
    "for i in new_root.findall(\".//LOAN-DETAILS\"):\n",
    "    ltype = i.find('ACCT-TYPE')\n",
    "    amt = i.find('DISBURSED-AMT')\n",
    "    if amt == None or ltype == None:continue\n",
    "    ltype = ltype.text\n",
    "    if ltype == None or amt.text ==None: continue\n",
    "    if ltype in dict.keys():\n",
    "        amt = amt.text\n",
    "        a = amt.replace(\",\",\"\")\n",
    "        dict[ltype] = dict[ltype] + int(a)\n",
    "    else: \n",
    "        amt = amt.text\n",
    "        a = amt.replace(\",\",\"\")\n",
    "        dict[ltype] = int(a)\n",
    "        \n",
    "total = 0\n",
    "for i in dict.keys():\n",
    "    print(i ,\" : \",dict[i])\n",
    "    total = total + dict[i]\n",
    "    \n",
    "print(\"Total loan: \", total)"
   ]
  },
  {
   "cell_type": "code",
   "execution_count": 105,
   "id": "e0a1d02a",
   "metadata": {},
   "outputs": [
    {
     "name": "stdout",
     "output_type": "stream",
     "text": [
      "{'Personal Loan': 0, 'Gold Loan': 7, 'Other': 0, 'Consumer Loan': 0} \n",
      "\n",
      "Gold Loan  having Maximum 30+DPD, which is: 7\n"
     ]
    }
   ],
   "source": [
    "# Question 3. What is the maximum number of months of 30+ due per trade was there? e.g. for trade 1 there are 3 occurrences of 30+, for trade 2 there are 6 occurrences and\n",
    "# for trade 3 there are 3 occurrences then the answer will be 6.\n",
    "\n",
    "# solution \n",
    "\n",
    "\n",
    "new_tree = ET.parse('/home/leno/Documents/Coding_data/customer787561_loan788638_crif_report.html.xml')\n",
    "new_root = new_tree.getroot()\n",
    "dict = {}\n",
    "for i in new_root.findall(\".//LOAN-DETAILS\"):\n",
    "    count = 0\n",
    "    ltype = i.find('ACCT-TYPE')\n",
    "    cph = i.find('COMBINED-PAYMENT-HISTORY')\n",
    "    if ltype == None or cph == None: continue\n",
    "    cph = cph.text\n",
    "    if cph == None:continue\n",
    "    ltype = ltype.text\n",
    "    individual = cph.split('|')\n",
    "    individual = individual[:-1]\n",
    "    for j in individual:\n",
    "        further = j.split(',')[1]\n",
    "        final = further.split('/')[0]\n",
    "        if final ==\"XXX\" or final == \"DDD\":continue\n",
    "        elif int(final) > 30: \n",
    "            count = count + 1\n",
    "            \n",
    "    if ltype in dict.keys():\n",
    "        dict[ltype] = dict[ltype] + count\n",
    "    else: \n",
    "        dict[ltype] = count\n",
    "    \n",
    "    \n",
    "print(dict ,\"\\n\")\n",
    "    \n",
    "maxim = 0\n",
    "mtype = \"\"\n",
    "for i in dict.keys():\n",
    "    if dict[i] > maxim:\n",
    "        maxim = dict[i]\n",
    "        mtype = i\n",
    "        \n",
    "print(\"%s  having Maximum 30+DPD, which is: %d\" %(mtype,maxim))"
   ]
  },
  {
   "cell_type": "markdown",
   "id": "ee174263",
   "metadata": {},
   "source": [
    "# customer794397_loan795497_crif_report"
   ]
  },
  {
   "cell_type": "code",
   "execution_count": 106,
   "id": "dcbac5c9",
   "metadata": {},
   "outputs": [
    {
     "name": "stdout",
     "output_type": "stream",
     "text": [
      "total no of Trades: 35\n",
      "Count of 30+DPD Trades: 5\n",
      "Percentage of 30+DPD Trades: 14.285714285714285\n"
     ]
    }
   ],
   "source": [
    "# Question 1: What percentage of trades are with 30+ DPD (more than 30 days past due) among all the trades available?\n",
    "\n",
    "# Solution: \n",
    "# Assumption : considering each LOAN-DETAILS/COMBINED-PAYMENT-HISTORY as 1 trade for the calculation of Percentage 30+DPD\n",
    "\n",
    "\n",
    "new_tree = ET.parse('/home/leno/Documents/Coding_data/customer794397_loan795497_crif_report.html.xml')\n",
    "new_root = new_tree.getroot()\n",
    "tot = 0\n",
    "count = 0\n",
    "for i in new_root.findall(\".//LOAN-DETAILS\"):\n",
    "    cph = i.find('COMBINED-PAYMENT-HISTORY')\n",
    "    if cph == None:continue\n",
    "    cph = cph.text\n",
    "    if cph == None:continue\n",
    "    flag = 0\n",
    "    tot = tot + 1\n",
    "    individual = cph.split('|')\n",
    "    individual = individual[:-1]\n",
    "    for j in individual:\n",
    "        further = j.split(',')[1]\n",
    "        final = further.split('/')[0]\n",
    "        if final ==\"XXX\" or final == \"DDD\":continue\n",
    "        elif int(final) > 30: \n",
    "            flag=1\n",
    "            break\n",
    "    \n",
    "    \n",
    "    count = count + flag\n",
    "\n",
    "perc = count / tot\n",
    "print(\"total no of Trades:\", tot)\n",
    "print(\"Count of 30+DPD Trades:\", count)\n",
    "print(\"Percentage of 30+DPD Trades:\",perc*100)\n"
   ]
  },
  {
   "cell_type": "code",
   "execution_count": 107,
   "id": "ae49c1cc",
   "metadata": {},
   "outputs": [
    {
     "name": "stdout",
     "output_type": "stream",
     "text": [
      "Personal Loan  :  135600\n",
      "Consumer Loan  :  194927\n",
      "Gold Loan  :  561460\n",
      "Credit Card  :  18804\n",
      "Total loan:  910791\n"
     ]
    }
   ],
   "source": [
    "# Question 2:  What is the sum of total disbursed amount for all loans for each customer?\n",
    "\n",
    "# Solution:\n",
    "\n",
    "new_tree = ET.parse('/home/leno/Documents/Coding_data/customer794397_loan795497_crif_report.html.xml')\n",
    "new_root = new_tree.getroot()\n",
    "dict = {}\n",
    "sum = 0\n",
    "for i in new_root.findall(\".//LOAN-DETAILS\"):\n",
    "    ltype = i.find('ACCT-TYPE')\n",
    "    amt = i.find('DISBURSED-AMT')\n",
    "    if amt == None or ltype == None:continue\n",
    "    ltype = ltype.text\n",
    "    if ltype == None or amt.text ==None: continue\n",
    "    if ltype in dict.keys():\n",
    "        amt = amt.text\n",
    "        a = amt.replace(\",\",\"\")\n",
    "        dict[ltype] = dict[ltype] + int(a)\n",
    "    else: \n",
    "        amt = amt.text\n",
    "        a = amt.replace(\",\",\"\")\n",
    "        dict[ltype] = int(a)\n",
    "        \n",
    "total = 0\n",
    "for i in dict.keys():\n",
    "    print(i ,\" : \",dict[i])\n",
    "    total = total + dict[i]\n",
    "    \n",
    "print(\"Total loan: \", total)"
   ]
  },
  {
   "cell_type": "code",
   "execution_count": 108,
   "id": "c1611a4b",
   "metadata": {},
   "outputs": [
    {
     "name": "stdout",
     "output_type": "stream",
     "text": [
      "{'Personal Loan': 6, 'Consumer Loan': 0, 'Gold Loan': 9, 'Credit Card': 0} \n",
      "\n",
      "Gold Loan having Maximum 30+DPD, which is: 9\n"
     ]
    }
   ],
   "source": [
    "# Question 3. What is the maximum number of months of 30+ due per trade was there? e.g. for trade 1 there are 3 occurrences of 30+, for trade 2 there are 6 occurrences and\n",
    "# for trade 3 there are 3 occurrences then the answer will be 6.\n",
    "\n",
    "# solution \n",
    "\n",
    "\n",
    "new_tree = ET.parse('/home/leno/Documents/Coding_data/customer794397_loan795497_crif_report.html.xml')\n",
    "new_root = new_tree.getroot()\n",
    "dict = {}\n",
    "for i in new_root.findall(\".//LOAN-DETAILS\"):\n",
    "    count = 0\n",
    "    ltype = i.find('ACCT-TYPE')\n",
    "    cph = i.find('COMBINED-PAYMENT-HISTORY')\n",
    "    if ltype == None or cph == None: continue\n",
    "    cph = cph.text\n",
    "    if cph == None:continue\n",
    "    ltype = ltype.text\n",
    "    individual = cph.split('|')\n",
    "    individual = individual[:-1]\n",
    "    for j in individual:\n",
    "        further = j.split(',')[1]\n",
    "        final = further.split('/')[0]\n",
    "        if final ==\"XXX\" or final == \"DDD\":continue\n",
    "        elif int(final) > 30: \n",
    "            count = count + 1\n",
    "            \n",
    "    if ltype in dict.keys():\n",
    "        dict[ltype] = dict[ltype] + count\n",
    "    else: \n",
    "        dict[ltype] = count\n",
    "    \n",
    "    \n",
    "print(dict ,\"\\n\")\n",
    "    \n",
    "maxim = 0\n",
    "mtype = \"\"\n",
    "for i in dict.keys():\n",
    "    if dict[i] > maxim:\n",
    "        maxim = dict[i]\n",
    "        mtype = i\n",
    "        \n",
    "print(\"%s having Maximum 30+DPD, which is: %d\" %(mtype,maxim))"
   ]
  },
  {
   "cell_type": "markdown",
   "id": "5427aa41",
   "metadata": {},
   "source": [
    "# customer898231_loan899591_crif_report"
   ]
  },
  {
   "cell_type": "code",
   "execution_count": 109,
   "id": "350c605f",
   "metadata": {},
   "outputs": [
    {
     "name": "stdout",
     "output_type": "stream",
     "text": [
      "total no of Trades: 39\n",
      "Count of 30+DPD Trades: 5\n",
      "Percentage of 30+DPD Trades: 12.82051282051282\n"
     ]
    }
   ],
   "source": [
    "# Question 1: What percentage of trades are with 30+ DPD (more than 30 days past due) among all the trades available?\n",
    "\n",
    "# Solution: \n",
    "# Assumption : considering each LOAN-DETAILS/COMBINED-PAYMENT-HISTORY as 1 trade for the calculation of Percentage 30+DPD\n",
    "\n",
    "\n",
    "new_tree = ET.parse('/home/leno/Documents/Coding_data/customer898231_loan899591_crif_report.html.xml')\n",
    "new_root = new_tree.getroot()\n",
    "tot = 0\n",
    "count = 0\n",
    "for i in new_root.findall(\".//LOAN-DETAILS\"):\n",
    "    cph = i.find('COMBINED-PAYMENT-HISTORY')\n",
    "    if cph == None:continue\n",
    "    cph = cph.text\n",
    "    if cph == None:continue\n",
    "    flag = 0\n",
    "    tot = tot + 1\n",
    "    individual = cph.split('|')\n",
    "    individual = individual[:-1]\n",
    "    for j in individual:\n",
    "        further = j.split(',')[1]\n",
    "        final = further.split('/')[0]\n",
    "        if final ==\"XXX\" or final == \"DDD\":continue\n",
    "        elif int(final) > 30: \n",
    "            flag=1\n",
    "            break\n",
    "    \n",
    "    \n",
    "    count = count + flag\n",
    "\n",
    "perc = count / tot\n",
    "print(\"total no of Trades:\", tot)\n",
    "print(\"Count of 30+DPD Trades:\", count)\n",
    "print(\"Percentage of 30+DPD Trades:\",perc*100)\n"
   ]
  },
  {
   "cell_type": "code",
   "execution_count": 110,
   "id": "02edb3e9",
   "metadata": {},
   "outputs": [
    {
     "name": "stdout",
     "output_type": "stream",
     "text": [
      "Credit Card  :  1279435\n",
      "Housing Loan  :  4397000\n",
      "Consumer Loan  :  260690\n",
      "Other  :  12000\n",
      "Gold Loan  :  688887\n",
      "Personal Loan  :  4013000\n",
      "Property Loan  :  1100000\n",
      "Auto Loan (Personal)  :  698000\n",
      "Total loan:  12449012\n"
     ]
    }
   ],
   "source": [
    "# Question 2:  What is the sum of total disbursed amount for all loans for each customer?\n",
    "\n",
    "# Solution:\n",
    "\n",
    "new_tree = ET.parse('/home/leno/Documents/Coding_data/customer898231_loan899591_crif_report.html.xml')\n",
    "new_root = new_tree.getroot()\n",
    "dict = {}\n",
    "sum = 0\n",
    "for i in new_root.findall(\".//LOAN-DETAILS\"):\n",
    "    ltype = i.find('ACCT-TYPE')\n",
    "    amt = i.find('DISBURSED-AMT')\n",
    "    if amt == None or ltype == None:continue\n",
    "    ltype = ltype.text\n",
    "    if ltype == None or amt.text ==None: continue\n",
    "    if ltype in dict.keys():\n",
    "        amt = amt.text\n",
    "        a = amt.replace(\",\",\"\")\n",
    "        dict[ltype] = dict[ltype] + int(a)\n",
    "    else: \n",
    "        amt = amt.text\n",
    "        a = amt.replace(\",\",\"\")\n",
    "        dict[ltype] = int(a)\n",
    "        \n",
    "total = 0\n",
    "for i in dict.keys():\n",
    "    print(i ,\" : \",dict[i])\n",
    "    total = total + dict[i]\n",
    "    \n",
    "print(\"Total loan: \", total)"
   ]
  },
  {
   "cell_type": "code",
   "execution_count": 111,
   "id": "399ab98c",
   "metadata": {},
   "outputs": [
    {
     "name": "stdout",
     "output_type": "stream",
     "text": [
      "{'Credit Card': 18, 'Housing Loan': 0, 'Consumer Loan': 0, 'Other': 0, 'Gold Loan': 7, 'Personal Loan': 0, 'Property Loan': 0, 'Auto Loan (Personal)': 0} \n",
      "\n",
      "Credit Card having Maximum 30+DPD, which is: 18\n"
     ]
    }
   ],
   "source": [
    "# Question 3. What is the maximum number of months of 30+ due per trade was there? e.g. for trade 1 there are 3 occurrences of 30+, for trade 2 there are 6 occurrences and\n",
    "# for trade 3 there are 3 occurrences then the answer will be 6.\n",
    "\n",
    "# solution \n",
    "\n",
    "\n",
    "new_tree = ET.parse('/home/leno/Documents/Coding_data/customer898231_loan899591_crif_report.html.xml')\n",
    "new_root = new_tree.getroot()\n",
    "dict = {}\n",
    "for i in new_root.findall(\".//LOAN-DETAILS\"):\n",
    "    count = 0\n",
    "    ltype = i.find('ACCT-TYPE')\n",
    "    cph = i.find('COMBINED-PAYMENT-HISTORY')\n",
    "    if ltype == None or cph == None: continue\n",
    "    cph = cph.text\n",
    "    if cph == None:continue\n",
    "    ltype = ltype.text\n",
    "    individual = cph.split('|')\n",
    "    individual = individual[:-1]\n",
    "    for j in individual:\n",
    "        further = j.split(',')[1]\n",
    "        final = further.split('/')[0]\n",
    "        if final ==\"XXX\" or final == \"DDD\":continue\n",
    "        elif int(final) > 30: \n",
    "            count = count + 1\n",
    "            \n",
    "    if ltype in dict.keys():\n",
    "        dict[ltype] = dict[ltype] + count\n",
    "    else: \n",
    "        dict[ltype] = count\n",
    "    \n",
    "    \n",
    "print(dict ,\"\\n\")\n",
    "    \n",
    "maxim = 0\n",
    "mtype = \"\"\n",
    "for i in dict.keys():\n",
    "    if dict[i] > maxim:\n",
    "        maxim = dict[i]\n",
    "        mtype = i\n",
    "        \n",
    "print(\"%s having Maximum 30+DPD, which is: %d\" %(mtype,maxim))"
   ]
  },
  {
   "cell_type": "markdown",
   "id": "6354e80e",
   "metadata": {},
   "source": [
    "# customer1113697_loan1115483_crif_report"
   ]
  },
  {
   "cell_type": "code",
   "execution_count": 112,
   "id": "54ea9abb",
   "metadata": {},
   "outputs": [
    {
     "name": "stdout",
     "output_type": "stream",
     "text": [
      "total no of Trades: 27\n",
      "Count of 30+DPD Trades: 5\n",
      "Percentage of 30+DPD Trades: 18.51851851851852\n"
     ]
    }
   ],
   "source": [
    "# Question 1: What percentage of trades are with 30+ DPD (more than 30 days past due) among all the trades available?\n",
    "\n",
    "# Solution: \n",
    "# Assumption : considering each LOAN-DETAILS/COMBINED-PAYMENT-HISTORY as 1 trade for the calculation of Percentage 30+DPD\n",
    "\n",
    "\n",
    "new_tree = ET.parse('/home/leno/Documents/Coding_data/customer1113697_loan1115483_crif_report.html.xml')\n",
    "new_root = new_tree.getroot()\n",
    "tot = 0\n",
    "count = 0\n",
    "for i in new_root.findall(\".//LOAN-DETAILS\"):\n",
    "    cph = i.find('COMBINED-PAYMENT-HISTORY')\n",
    "    if cph == None:continue\n",
    "    cph = cph.text\n",
    "    if cph == None:continue\n",
    "    flag = 0\n",
    "    tot = tot + 1\n",
    "    individual = cph.split('|')\n",
    "    individual = individual[:-1]\n",
    "    for j in individual:\n",
    "        further = j.split(',')[1]\n",
    "        final = further.split('/')[0]\n",
    "        if final ==\"XXX\" or final == \"DDD\":continue\n",
    "        elif int(final) > 30: \n",
    "            flag=1\n",
    "            break\n",
    "    \n",
    "    \n",
    "    count = count + flag\n",
    "\n",
    "perc = count / tot\n",
    "print(\"total no of Trades:\", tot)\n",
    "print(\"Count of 30+DPD Trades:\", count)\n",
    "print(\"Percentage of 30+DPD Trades:\",perc*100)\n"
   ]
  },
  {
   "cell_type": "code",
   "execution_count": 113,
   "id": "cf3ea432",
   "metadata": {},
   "outputs": [
    {
     "name": "stdout",
     "output_type": "stream",
     "text": [
      "Gold Loan  :  560340\n",
      "Personal Loan  :  245000\n",
      "Auto Loan (Personal)  :  165000\n",
      "Two-Wheeler Loan  :  40000\n",
      "Credit Card  :  46980\n",
      "Total loan:  1057320\n"
     ]
    }
   ],
   "source": [
    "# Question 2:  What is the sum of total disbursed amount for all loans for each customer?\n",
    "\n",
    "# Solution:\n",
    "\n",
    "new_tree = ET.parse('/home/leno/Documents/Coding_data/customer1113697_loan1115483_crif_report.html.xml')\n",
    "new_root = new_tree.getroot()\n",
    "dict = {}\n",
    "sum = 0\n",
    "for i in new_root.findall(\".//LOAN-DETAILS\"):\n",
    "    ltype = i.find('ACCT-TYPE')\n",
    "    amt = i.find('DISBURSED-AMT')\n",
    "    if amt == None or ltype == None:continue\n",
    "    ltype = ltype.text\n",
    "    if ltype == None or amt.text ==None: continue\n",
    "    if ltype in dict.keys():\n",
    "        amt = amt.text\n",
    "        a = amt.replace(\",\",\"\")\n",
    "        dict[ltype] = dict[ltype] + int(a)\n",
    "    else: \n",
    "        amt = amt.text\n",
    "        a = amt.replace(\",\",\"\")\n",
    "        dict[ltype] = int(a)\n",
    "        \n",
    "total = 0\n",
    "for i in dict.keys():\n",
    "    print(i ,\" : \",dict[i])\n",
    "    total = total + dict[i]\n",
    "    \n",
    "print(\"Total loan: \", total)"
   ]
  },
  {
   "cell_type": "code",
   "execution_count": 114,
   "id": "f99ba896",
   "metadata": {},
   "outputs": [
    {
     "name": "stdout",
     "output_type": "stream",
     "text": [
      "{'Gold Loan': 12, 'Personal Loan': 0, 'Auto Loan (Personal)': 4, 'Two-Wheeler Loan': 0, 'Credit Card': 0} \n",
      "\n",
      "Gold Loan having Maximum 30+DPD, which is: 12\n"
     ]
    }
   ],
   "source": [
    "# Question 3. What is the maximum number of months of 30+ due per trade was there? e.g. for trade 1 there are 3 occurrences of 30+, for trade 2 there are 6 occurrences and\n",
    "# for trade 3 there are 3 occurrences then the answer will be 6.\n",
    "\n",
    "# solution \n",
    "\n",
    "\n",
    "new_tree = ET.parse('/home/leno/Documents/Coding_data/customer1113697_loan1115483_crif_report.html.xml')\n",
    "new_root = new_tree.getroot()\n",
    "dict = {}\n",
    "for i in new_root.findall(\".//LOAN-DETAILS\"):\n",
    "    count = 0\n",
    "    ltype = i.find('ACCT-TYPE')\n",
    "    cph = i.find('COMBINED-PAYMENT-HISTORY')\n",
    "    if ltype == None or cph == None: continue\n",
    "    cph = cph.text\n",
    "    if cph == None:continue\n",
    "    ltype = ltype.text\n",
    "    individual = cph.split('|')\n",
    "    individual = individual[:-1]\n",
    "    for j in individual:\n",
    "        further = j.split(',')[1]\n",
    "        final = further.split('/')[0]\n",
    "        if final ==\"XXX\" or final == \"DDD\":continue\n",
    "        elif int(final) > 30: \n",
    "            count = count + 1\n",
    "            \n",
    "    if ltype in dict.keys():\n",
    "        dict[ltype] = dict[ltype] + count\n",
    "    else: \n",
    "        dict[ltype] = count\n",
    "    \n",
    "    \n",
    "print(dict ,\"\\n\")\n",
    "    \n",
    "maxim = 0\n",
    "mtype = \"\"\n",
    "for i in dict.keys():\n",
    "    if dict[i] > maxim:\n",
    "        maxim = dict[i]\n",
    "        mtype = i\n",
    "        \n",
    "print(\"%s having Maximum 30+DPD, which is: %d\" %(mtype,maxim))"
   ]
  },
  {
   "cell_type": "markdown",
   "id": "2e264257",
   "metadata": {},
   "source": [
    "# customer1129550_loan1131339_crif_report"
   ]
  },
  {
   "cell_type": "code",
   "execution_count": 115,
   "id": "3861199b",
   "metadata": {},
   "outputs": [
    {
     "name": "stdout",
     "output_type": "stream",
     "text": [
      "total no of Trades: 13\n",
      "Count of 30+DPD Trades: 5\n",
      "Percentage of 30+DPD Trades: 38.46153846153847\n"
     ]
    }
   ],
   "source": [
    "# Question 1: What percentage of trades are with 30+ DPD (more than 30 days past due) among all the trades available?\n",
    "\n",
    "# Solution: \n",
    "# Assumption : considering each LOAN-DETAILS/COMBINED-PAYMENT-HISTORY as 1 trade for the calculation of Percentage 30+DPD\n",
    "\n",
    "\n",
    "new_tree = ET.parse('/home/leno/Documents/Coding_data/customer1129550_loan1131339_crif_report.html.xml')\n",
    "new_root = new_tree.getroot()\n",
    "tot = 0\n",
    "count = 0\n",
    "for i in new_root.findall(\".//LOAN-DETAILS\"):\n",
    "    cph = i.find('COMBINED-PAYMENT-HISTORY')\n",
    "    if cph == None:continue\n",
    "    cph = cph.text\n",
    "    if cph == None:continue\n",
    "    flag = 0\n",
    "    tot = tot + 1\n",
    "    individual = cph.split('|')\n",
    "    individual = individual[:-1]\n",
    "    for j in individual:\n",
    "        further = j.split(',')[1]\n",
    "        final = further.split('/')[0]\n",
    "        if final ==\"XXX\" or final == \"DDD\":continue\n",
    "        elif int(final) > 30: \n",
    "            flag=1\n",
    "            break\n",
    "    \n",
    "    \n",
    "    count = count + flag\n",
    "\n",
    "perc = count / tot\n",
    "print(\"total no of Trades:\", tot)\n",
    "print(\"Count of 30+DPD Trades:\", count)\n",
    "print(\"Percentage of 30+DPD Trades:\",perc*100)\n"
   ]
  },
  {
   "cell_type": "code",
   "execution_count": 116,
   "id": "4fbbe3af",
   "metadata": {},
   "outputs": [
    {
     "name": "stdout",
     "output_type": "stream",
     "text": [
      "Gold Loan  :  251600\n",
      "Personal Loan  :  44000\n",
      "Other  :  1\n",
      "Property Loan  :  500000\n",
      "Total loan:  795601\n"
     ]
    }
   ],
   "source": [
    "# Question 2:  What is the sum of total disbursed amount for all loans for each customer?\n",
    "\n",
    "# Solution:\n",
    "\n",
    "new_tree = ET.parse('/home/leno/Documents/Coding_data/customer1129550_loan1131339_crif_report.html.xml')\n",
    "new_root = new_tree.getroot()\n",
    "dict = {}\n",
    "sum = 0\n",
    "for i in new_root.findall(\".//LOAN-DETAILS\"):\n",
    "    ltype = i.find('ACCT-TYPE')\n",
    "    amt = i.find('DISBURSED-AMT')\n",
    "    if amt == None or ltype == None:continue\n",
    "    ltype = ltype.text\n",
    "    if ltype == None or amt.text ==None: continue\n",
    "    if ltype in dict.keys():\n",
    "        amt = amt.text\n",
    "        a = amt.replace(\",\",\"\")\n",
    "        dict[ltype] = dict[ltype] + int(a)\n",
    "    else: \n",
    "        amt = amt.text\n",
    "        a = amt.replace(\",\",\"\")\n",
    "        dict[ltype] = int(a)\n",
    "        \n",
    "total = 0\n",
    "for i in dict.keys():\n",
    "    print(i ,\" : \",dict[i])\n",
    "    total = total + dict[i]\n",
    "    \n",
    "print(\"Total loan: \", total)"
   ]
  },
  {
   "cell_type": "code",
   "execution_count": 117,
   "id": "c30f72fb",
   "metadata": {},
   "outputs": [
    {
     "name": "stdout",
     "output_type": "stream",
     "text": [
      "{'Gold Loan': 11, 'Personal Loan': 0, 'Other': 10, 'Property Loan': 0} \n",
      "\n",
      "Gold Loan having Maximum 30+DPD, which is: 11\n"
     ]
    }
   ],
   "source": [
    "# Question 3. What is the maximum number of months of 30+ due per trade was there? e.g. for trade 1 there are 3 occurrences of 30+, for trade 2 there are 6 occurrences and\n",
    "# for trade 3 there are 3 occurrences then the answer will be 6.\n",
    "\n",
    "# solution \n",
    "\n",
    "\n",
    "new_tree = ET.parse('/home/leno/Documents/Coding_data/customer1129550_loan1131339_crif_report.html.xml')\n",
    "new_root = new_tree.getroot()\n",
    "dict = {}\n",
    "for i in new_root.findall(\".//LOAN-DETAILS\"):\n",
    "    count = 0\n",
    "    ltype = i.find('ACCT-TYPE')\n",
    "    cph = i.find('COMBINED-PAYMENT-HISTORY')\n",
    "    if ltype == None or cph == None: continue\n",
    "    cph = cph.text\n",
    "    if cph == None:continue\n",
    "    ltype = ltype.text\n",
    "    individual = cph.split('|')\n",
    "    individual = individual[:-1]\n",
    "    for j in individual:\n",
    "        further = j.split(',')[1]\n",
    "        final = further.split('/')[0]\n",
    "        if final ==\"XXX\" or final == \"DDD\":continue\n",
    "        elif int(final) > 30: \n",
    "            count = count + 1\n",
    "            \n",
    "    if ltype in dict.keys():\n",
    "        dict[ltype] = dict[ltype] + count\n",
    "    else: \n",
    "        dict[ltype] = count\n",
    "    \n",
    "    \n",
    "print(dict ,\"\\n\")\n",
    "    \n",
    "maxim = 0\n",
    "mtype = \"\"\n",
    "for i in dict.keys():\n",
    "    if dict[i] > maxim:\n",
    "        maxim = dict[i]\n",
    "        mtype = i\n",
    "        \n",
    "print(\"%s having Maximum 30+DPD, which is: %d\" %(mtype,maxim))"
   ]
  },
  {
   "cell_type": "markdown",
   "id": "4b114663",
   "metadata": {},
   "source": [
    "# customer1195586_loan1197471_crif_report.html"
   ]
  },
  {
   "cell_type": "code",
   "execution_count": 118,
   "id": "d244079f",
   "metadata": {},
   "outputs": [
    {
     "name": "stdout",
     "output_type": "stream",
     "text": [
      "total no of Trades: 17\n",
      "Count of 30+DPD Trades: 7\n",
      "Percentage of 30+DPD Trades: 41.17647058823529\n"
     ]
    }
   ],
   "source": [
    "# Question 1: What percentage of trades are with 30+ DPD (more than 30 days past due) among all the trades available?\n",
    "\n",
    "# Solution: \n",
    "# Assumption : considering each LOAN-DETAILS/COMBINED-PAYMENT-HISTORY as 1 trade for the calculation of Percentage 30+DPD\n",
    "\n",
    "\n",
    "new_tree = ET.parse('/home/leno/Documents/Coding_data/customer1195586_loan1197471_crif_report.html.xml')\n",
    "new_root = new_tree.getroot()\n",
    "tot = 0\n",
    "count = 0\n",
    "for i in new_root.findall(\".//LOAN-DETAILS\"):\n",
    "    cph = i.find('COMBINED-PAYMENT-HISTORY')\n",
    "    if cph == None:continue\n",
    "    cph = cph.text\n",
    "    if cph == None:continue\n",
    "    flag = 0\n",
    "    tot = tot + 1\n",
    "    individual = cph.split('|')\n",
    "    individual = individual[:-1]\n",
    "    for j in individual:\n",
    "        further = j.split(',')[1]\n",
    "        final = further.split('/')[0]\n",
    "        if final ==\"XXX\" or final == \"DDD\":continue\n",
    "        elif int(final) > 30: \n",
    "            flag=1\n",
    "            break\n",
    "    \n",
    "    \n",
    "    count = count + flag\n",
    "\n",
    "perc = count / tot\n",
    "print(\"total no of Trades:\", tot)\n",
    "print(\"Count of 30+DPD Trades:\", count)\n",
    "print(\"Percentage of 30+DPD Trades:\",perc*100)\n"
   ]
  },
  {
   "cell_type": "code",
   "execution_count": 119,
   "id": "1f146e24",
   "metadata": {},
   "outputs": [
    {
     "name": "stdout",
     "output_type": "stream",
     "text": [
      "Gold Loan  :  1849100\n",
      "Credit Card  :  174227\n",
      "Personal Loan  :  100000\n",
      "Auto Loan (Personal)  :  638536\n",
      "Housing Loan  :  1710000\n",
      "Total loan:  4471863\n"
     ]
    }
   ],
   "source": [
    "# Question 2:  What is the sum of total disbursed amount for all loans for each customer?\n",
    "\n",
    "# Solution:\n",
    "\n",
    "new_tree = ET.parse('/home/leno/Documents/Coding_data/customer1195586_loan1197471_crif_report.html.xml')\n",
    "new_root = new_tree.getroot()\n",
    "dict = {}\n",
    "sum = 0\n",
    "for i in new_root.findall(\".//LOAN-DETAILS\"):\n",
    "    ltype = i.find('ACCT-TYPE')\n",
    "    amt = i.find('DISBURSED-AMT')\n",
    "    if amt == None or ltype == None:continue\n",
    "    ltype = ltype.text\n",
    "    if ltype == None or amt.text ==None: continue\n",
    "    if ltype in dict.keys():\n",
    "        amt = amt.text\n",
    "        a = amt.replace(\",\",\"\")\n",
    "        dict[ltype] = dict[ltype] + int(a)\n",
    "    else: \n",
    "        amt = amt.text\n",
    "        a = amt.replace(\",\",\"\")\n",
    "        dict[ltype] = int(a)\n",
    "        \n",
    "total = 0\n",
    "for i in dict.keys():\n",
    "    print(i ,\" : \",dict[i])\n",
    "    total = total + dict[i]\n",
    "    \n",
    "print(\"Total loan: \", total)"
   ]
  },
  {
   "cell_type": "code",
   "execution_count": 120,
   "id": "dce9940f",
   "metadata": {},
   "outputs": [
    {
     "name": "stdout",
     "output_type": "stream",
     "text": [
      "{'Gold Loan': 16, 'Credit Card': 0, 'Personal Loan': 0, 'Auto Loan (Personal)': 0, 'Housing Loan': 0} \n",
      "\n",
      "Gold Loan having Maximum 30+DPD, which is: 16\n"
     ]
    }
   ],
   "source": [
    "# Question 3. What is the maximum number of months of 30+ due per trade was there? e.g. for trade 1 there are 3 occurrences of 30+, for trade 2 there are 6 occurrences and\n",
    "# for trade 3 there are 3 occurrences then the answer will be 6.\n",
    "\n",
    "# solution \n",
    "\n",
    "\n",
    "new_tree = ET.parse('/home/leno/Documents/Coding_data/customer1195586_loan1197471_crif_report.html.xml')\n",
    "new_root = new_tree.getroot()\n",
    "dict = {}\n",
    "for i in new_root.findall(\".//LOAN-DETAILS\"):\n",
    "    count = 0\n",
    "    ltype = i.find('ACCT-TYPE')\n",
    "    cph = i.find('COMBINED-PAYMENT-HISTORY')\n",
    "    if ltype == None or cph == None: continue\n",
    "    cph = cph.text\n",
    "    if cph == None:continue\n",
    "    ltype = ltype.text\n",
    "    individual = cph.split('|')\n",
    "    individual = individual[:-1]\n",
    "    for j in individual:\n",
    "        further = j.split(',')[1]\n",
    "        final = further.split('/')[0]\n",
    "        if final ==\"XXX\" or final == \"DDD\":continue\n",
    "        elif int(final) > 30: \n",
    "            count = count + 1\n",
    "            \n",
    "    if ltype in dict.keys():\n",
    "        dict[ltype] = dict[ltype] + count\n",
    "    else: \n",
    "        dict[ltype] = count\n",
    "    \n",
    "    \n",
    "print(dict ,\"\\n\")\n",
    "    \n",
    "maxim = 0\n",
    "mtype = \"\"\n",
    "for i in dict.keys():\n",
    "    if dict[i] > maxim:\n",
    "        maxim = dict[i]\n",
    "        mtype = i\n",
    "        \n",
    "print(\"%s having Maximum 30+DPD, which is: %d\" %(mtype,maxim))"
   ]
  }
 ],
 "metadata": {
  "kernelspec": {
   "display_name": "Python 3 (ipykernel)",
   "language": "python",
   "name": "python3"
  },
  "language_info": {
   "codemirror_mode": {
    "name": "ipython",
    "version": 3
   },
   "file_extension": ".py",
   "mimetype": "text/x-python",
   "name": "python",
   "nbconvert_exporter": "python",
   "pygments_lexer": "ipython3",
   "version": "3.9.13"
  }
 },
 "nbformat": 4,
 "nbformat_minor": 5
}
